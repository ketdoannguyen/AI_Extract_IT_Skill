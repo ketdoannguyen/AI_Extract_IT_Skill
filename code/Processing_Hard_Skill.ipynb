{
 "cells": [
  {
   "cell_type": "code",
   "execution_count": 1,
   "metadata": {},
   "outputs": [],
   "source": [
    "import pandas as pd\n",
    "import re"
   ]
  },
  {
   "cell_type": "code",
   "execution_count": 5,
   "metadata": {},
   "outputs": [
    {
     "name": "stdout",
     "output_type": "stream",
     "text": [
      "<class 'pandas.core.frame.DataFrame'>\n",
      "RangeIndex: 5180 entries, 0 to 5179\n",
      "Data columns (total 1 columns):\n",
      " #   Column     Non-Null Count  Dtype \n",
      "---  ------     --------------  ----- \n",
      " 0   HardSkill  5180 non-null   object\n",
      "dtypes: object(1)\n",
      "memory usage: 40.6+ KB\n"
     ]
    }
   ],
   "source": [
    "df_skill = pd.read_csv(\"./data/HardSkill.csv\")\n",
    "df_skill.info()"
   ]
  },
  {
   "cell_type": "code",
   "execution_count": 6,
   "metadata": {},
   "outputs": [
    {
     "name": "stdout",
     "output_type": "stream",
     "text": [
      "5017\n"
     ]
    },
    {
     "data": {
      "text/plain": [
       "['qa/qc', 'qa', 'qc', 'react', 'redux', 'vue.js', 'bi/apd', 'bi', 'apd', 'xml']"
      ]
     },
     "execution_count": 6,
     "metadata": {},
     "output_type": "execute_result"
    }
   ],
   "source": [
    "list_skill = list(df_skill[\"HardSkill\"])\n",
    "list_skill = [\" \".join(x.lower().split()) for x in list_skill if x == x]\n",
    "list_skill = list(dict.fromkeys(list_skill))\n",
    "print(len(list_skill))\n",
    "list_skill[:10]"
   ]
  },
  {
   "cell_type": "code",
   "execution_count": 4,
   "metadata": {},
   "outputs": [],
   "source": [
    "a = list()\n",
    "for skills in list_skill:\n",
    "    if \" \" not in skills:    \n",
    "        if re.search(\"[^a-z0-9]+\",skills[1:]) :\n",
    "            pass\n",
    "        else:\n",
    "            a.append(skills)\n",
    "a\n",
    "df_save = pd.DataFrame({\"HardSkill\":a})\n",
    "df_save.to_csv(\"./data/HardSkill1letter.csv\",index=False)"
   ]
  },
  {
   "cell_type": "code",
   "execution_count": 7,
   "metadata": {},
   "outputs": [
    {
     "name": "stdout",
     "output_type": "stream",
     "text": [
      "5016\n"
     ]
    },
    {
     "data": {
      "text/plain": [
       "['qa / qc',\n",
       " 'qa',\n",
       " 'qc',\n",
       " 'react',\n",
       " 'redux',\n",
       " 'vue.js',\n",
       " 'bi / apd',\n",
       " 'bi',\n",
       " 'apd',\n",
       " 'xml']"
      ]
     },
     "execution_count": 7,
     "metadata": {},
     "output_type": "execute_result"
    }
   ],
   "source": [
    "for i in range(len(list_skill)):\n",
    "    list_skill[i] = re.sub(\"\\/\", \" / \", list_skill[i])\n",
    "    list_skill[i] = re.sub(\"-\", \" - \", list_skill[i])\n",
    "    list_skill[i] = re.sub(\":\", \" : \", list_skill[i])\n",
    "    list_skill[i] = re.sub(\"#\", \" # \", list_skill[i])\n",
    "    list_skill[i] = \" \".join(list_skill[i].split())\n",
    "list_skill = list(dict.fromkeys(list_skill))\n",
    "print(len(list_skill))\n",
    "list_skill[:10]"
   ]
  },
  {
   "cell_type": "code",
   "execution_count": 8,
   "metadata": {},
   "outputs": [
    {
     "name": "stdout",
     "output_type": "stream",
     "text": [
      "5016\n"
     ]
    },
    {
     "data": {
      "text/plain": [
       "[{'label': 'HARD-SKILL',\n",
       "  'pattern': [{'LOWER': 'qa'}, {'TEXT': '/'}, {'LOWER': 'qc'}]},\n",
       " {'label': 'HARD-SKILL', 'pattern': [{'LOWER': 'qa'}]},\n",
       " {'label': 'HARD-SKILL', 'pattern': [{'LOWER': 'qc'}]}]"
      ]
     },
     "execution_count": 8,
     "metadata": {},
     "output_type": "execute_result"
    }
   ],
   "source": [
    "import json\n",
    "array_dict_skill = []\n",
    "for skill in list_skill :\n",
    "    array_pattern = []\n",
    "    for token in skill.split(\" \"):\n",
    "        if not re.search(\"[a-zA-Z]\",token) :\n",
    "            dict_token = {\"TEXT\" : token}\n",
    "            array_pattern.append(dict_token)\n",
    "        else:\n",
    "            dict_token = {\"LOWER\" : token.lower()}\n",
    "            array_pattern.append(dict_token)\n",
    "        \n",
    "    dict_text = {\n",
    "        \"label\":\"HARD-SKILL\",\n",
    "        \"pattern\" : array_pattern\n",
    "    }\n",
    "    array_dict_skill.append(dict_text)\n",
    "seen = list()\n",
    "new_list = []\n",
    "for d in array_dict_skill:\n",
    "    if d not in seen:\n",
    "        seen.append(d)\n",
    "        new_list.append(d)\n",
    "print(len(new_list))\n",
    "new_list[:3]"
   ]
  },
  {
   "cell_type": "code",
   "execution_count": 10,
   "metadata": {},
   "outputs": [],
   "source": [
    "with open('./data/EntityRuler_Patterns.jsonl', 'w') as outfile:\n",
    "    for entry in new_list:\n",
    "        json.dump(entry, outfile)\n",
    "        outfile.write('\\n') "
   ]
  },
  {
   "cell_type": "code",
   "execution_count": 27,
   "metadata": {},
   "outputs": [],
   "source": [
    "df_save = pd.DataFrame({\"HardSkill\":list_skill})\n",
    "df_save.to_csv(\"./data/HardSkill.csv\",index=False)"
   ]
  }
 ],
 "metadata": {
  "kernelspec": {
   "display_name": "Python 3",
   "language": "python",
   "name": "python3"
  },
  "language_info": {
   "codemirror_mode": {
    "name": "ipython",
    "version": 3
   },
   "file_extension": ".py",
   "mimetype": "text/x-python",
   "name": "python",
   "nbconvert_exporter": "python",
   "pygments_lexer": "ipython3",
   "version": "3.9.13"
  },
  "orig_nbformat": 4
 },
 "nbformat": 4,
 "nbformat_minor": 2
}
